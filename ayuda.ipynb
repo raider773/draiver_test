{
 "cells": [
  {
   "cell_type": "code",
   "execution_count": 2,
   "id": "2c593b56-802b-48bd-be5c-3080473e2888",
   "metadata": {},
   "outputs": [],
   "source": [
    "from sentence_transformers import SentenceTransformer\n",
    "import chromadb\n",
    "\n",
    "def search_similar_docs(query: str, top_k: int = 5):\n",
    "    client = chromadb.PersistentClient(path=\"./chroma_db\")\n",
    "    collection = client.get_or_create_collection(name=\"france_tourism\")\n",
    "\n",
    "    embedding_model = SentenceTransformer(\"all-MiniLM-L6-v2\")\n",
    "    query_embedding = embedding_model.encode([query]).tolist()[0]\n",
    "\n",
    "    results = collection.query(\n",
    "        query_embeddings=[query_embedding],\n",
    "        n_results=top_k\n",
    "    )\n",
    "\n",
    "    return results[\"documents\"][0]"
   ]
  },
  {
   "cell_type": "code",
   "execution_count": 3,
   "id": "12faf0cf-db95-46a2-be37-77ef4fbb5e3d",
   "metadata": {},
   "outputs": [
    {
     "name": "stdout",
     "output_type": "stream",
     "text": [
      "Foods) Paris: Try croissants, duck confit, and crème brûlée. Street-side cafés often serve set-price lunch menus. Brittany: Known for crepes, galettes, and cider. Lyon: The gastronomic capital. Must-try dishes: quenelles, salade lyonnaise, saucisson. Bordeaux: Famous for red wines. Wine tastings and vineyard tours are widely available. Alsace: Combines French and German traditions.\n",
      "\n",
      "rock climbing. French Cuisine (Regional Foods) Paris: Try croissants, duck confit, and crème brûlée. Street-side cafés often serve set-price lunch menus. Brittany: Known for crepes, galettes, and cider. Lyon: The gastronomic capital. Must-try dishes: quenelles, salade lyonnaise, saucisson. Bordeaux: Famous for red wines. Wine tastings and vineyard tours are widely available. Alsace: Combines\n",
      "\n",
      "Cuisine (Regional Foods) Paris: Try croissants, duck confit, and crème brûlée. Street-side cafés often serve set-price lunch menus. Brittany: Known for crepes, galettes, and cider. Lyon: The gastronomic capital. Must-try dishes: quenelles, salade lyonnaise, saucisson. Bordeaux: Famous for red wines. Wine tastings and vineyard tours are widely available. Alsace: Combines French and\n",
      "\n",
      "views of olive groves and vineyards. Gorges du Verdon: A dramatic river canyon for kayaking and rock climbing. French Cuisine (Regional Foods) Paris: Try croissants, duck confit, and crème brûlée. Street-side cafés often serve set-price lunch menus. Brittany: Known for crepes, galettes, and cider. Lyon: The gastronomic capital. Must-try dishes: quenelles, salade lyonnaise, saucisson.\n",
      "\n",
      "Lavender season runs from June to August. Visit Les Baux-de-Provence, an ancient hilltop village with views of olive groves and vineyards. Gorges du Verdon: A dramatic river canyon for kayaking and rock climbing. French Cuisine (Regional Foods) Paris: Try croissants, duck confit, and crème brûlée. Street-side cafés often serve set-price lunch menus. Brittany: Known for crepes, galettes, and cider.\n",
      "\n"
     ]
    }
   ],
   "source": [
    "query = \"Where can I get a coffee in Paris?\"\n",
    "docs = search_similar_docs(query)\n",
    "\n",
    "for doc in docs:\n",
    "    print(doc)\n",
    "    print()"
   ]
  },
  {
   "cell_type": "code",
   "execution_count": null,
   "id": "0877cd8f-6cdd-42d6-8a9b-a328935300cf",
   "metadata": {},
   "outputs": [],
   "source": [
    "#from app.utils.vector_search import search_similar_docs"
   ]
  }
 ],
 "metadata": {
  "kernelspec": {
   "display_name": "Python 3 (ipykernel)",
   "language": "python",
   "name": "python3"
  },
  "language_info": {
   "codemirror_mode": {
    "name": "ipython",
    "version": 3
   },
   "file_extension": ".py",
   "mimetype": "text/x-python",
   "name": "python",
   "nbconvert_exporter": "python",
   "pygments_lexer": "ipython3",
   "version": "3.13.5"
  }
 },
 "nbformat": 4,
 "nbformat_minor": 5
}

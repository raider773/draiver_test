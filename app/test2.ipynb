{
 "cells": [
  {
   "cell_type": "code",
   "execution_count": 8,
   "id": "bc157ce9-52fb-4665-894c-0045a8808cdd",
   "metadata": {},
   "outputs": [],
   "source": [
    "import anthropic\n",
    "from conf.settings import Settings\n",
    "import json"
   ]
  },
  {
   "cell_type": "code",
   "execution_count": 2,
   "id": "96e30c7b-2ca9-4b4a-ad2b-2e154a4e73b7",
   "metadata": {},
   "outputs": [],
   "source": [
    "settings = Settings()"
   ]
  },
  {
   "cell_type": "code",
   "execution_count": 32,
   "id": "3fc5b9c4-3e83-490b-9686-64278a6bfab3",
   "metadata": {},
   "outputs": [],
   "source": [
    "class ToolAgent:\n",
    "    def __init__(self,api_key: str):\n",
    "        self.client = anthropic.Anthropic(api_key=api_key)\n",
    "        self.model = settings.tool__agent_model\n",
    "        self.max_tokens = settings.tool__agent_max_tokens\n",
    "        self.temperature = settings.tool__agent_temperature\n",
    "        self.knowledge_prompt = settings.tool__agent_prompt\n",
    "\n",
    "        \n",
    "\n",
    "    def _call_anthropic(self, query: str) -> str:\n",
    "        response = self.client.messages.create(\n",
    "            model=self.model,\n",
    "            max_tokens=self.max_tokens,\n",
    "            temperature=self.temperature,\n",
    "            messages=[\n",
    "                {\"role\": \"user\", \"content\": query}\n",
    "            ]\n",
    "        )\n",
    "        return response.content[0].text\n",
    "\n",
    "    def decide_tool(self, query: str) -> str:\n",
    "        llm_input = self.knowledge_prompt.format(query=query)\n",
    "        raw = self._call_anthropic(llm_input)\n",
    "        try:\n",
    "            data = json.loads(raw)        \n",
    "            return data\n",
    "        except json.JSONDecodeError:\n",
    "            print(\"[WARN] Failed to parse tool selection response:\", raw)\n",
    "            return \"none\""
   ]
  },
  {
   "cell_type": "code",
   "execution_count": 33,
   "id": "ec3fdf7a-5320-4773-afb9-48f8e717a1f8",
   "metadata": {},
   "outputs": [],
   "source": [
    "API_KEY = \"\".strip() \n",
    "tool_agent = ToolAgent(api_key=API_KEY)\n",
    "\n",
    "user_query = \"Tell me what to do in France in September\"\n",
    "response = tool_agent.decide_tool(user_query)"
   ]
  },
  {
   "cell_type": "code",
   "execution_count": 34,
   "id": "c2314fa6-0caf-4a5b-a304-2346b2a4d115",
   "metadata": {},
   "outputs": [
    {
     "data": {
      "text/plain": [
       "{'tool': 'none'}"
      ]
     },
     "execution_count": 34,
     "metadata": {},
     "output_type": "execute_result"
    }
   ],
   "source": [
    "response"
   ]
  },
  {
   "cell_type": "code",
   "execution_count": null,
   "id": "6424107d-048d-4e5c-9de8-09ca81d929ec",
   "metadata": {},
   "outputs": [],
   "source": []
  },
  {
   "cell_type": "code",
   "execution_count": null,
   "id": "3f052ce6-5135-44a4-a1cb-32a635b9b861",
   "metadata": {},
   "outputs": [],
   "source": []
  },
  {
   "cell_type": "code",
   "execution_count": null,
   "id": "3b639df8-6b38-4bc0-8a72-0dd06ef04629",
   "metadata": {},
   "outputs": [],
   "source": []
  },
  {
   "cell_type": "code",
   "execution_count": null,
   "id": "26f0abc4-6148-4304-89c2-131f997d02bb",
   "metadata": {},
   "outputs": [],
   "source": [
    "\"get_weather\" → para consultas tipo: \"What's the weather in Paris next week?\"\n",
    "\n",
    "\"make_reservation\" → para: \"Can you book a visit to the Louvre on Friday?\"\n",
    "\n",
    "\"none\" → para: \"Tell me what to do in France in September.\""
   ]
  }
 ],
 "metadata": {
  "kernelspec": {
   "display_name": "Python 3 (ipykernel)",
   "language": "python",
   "name": "python3"
  },
  "language_info": {
   "codemirror_mode": {
    "name": "ipython",
    "version": 3
   },
   "file_extension": ".py",
   "mimetype": "text/x-python",
   "name": "python",
   "nbconvert_exporter": "python",
   "pygments_lexer": "ipython3",
   "version": "3.13.5"
  }
 },
 "nbformat": 4,
 "nbformat_minor": 5
}

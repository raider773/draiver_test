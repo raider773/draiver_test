{
 "cells": [
  {
   "cell_type": "markdown",
   "id": "5e488c5b-e366-465c-868f-bdae9b85abcb",
   "metadata": {},
   "source": [
    "import os\n",
    "import re\n",
    "from typing import List\n",
    "import tiktoken\n",
    "import chromadb\n",
    "from sentence_transformers import SentenceTransformer\n",
    "\n",
    "CHUNK_SIZE = 100  \n",
    "CHUNK_OVERLAP = 50  \n",
    "\n",
    "encoding = tiktoken.get_encoding(\"cl100k_base\")\n",
    "\n",
    "def count_tokens(text: str) -> int:\n",
    "    return len(encoding.encode(text))\n",
    "\n",
    "def split_text_to_chunks(text: str, chunk_size: int = CHUNK_SIZE, overlap: int = CHUNK_OVERLAP) -> List[str]:\n",
    "    words = text.split()\n",
    "    chunks = []\n",
    "    current_chunk = []\n",
    "\n",
    "    for word in words:\n",
    "        current_chunk.append(word)\n",
    "        current_text = \" \".join(current_chunk)\n",
    "        if count_tokens(current_text) >= chunk_size:\n",
    "            chunks.append(current_text)\n",
    "            current_chunk = current_chunk[-overlap:]  # keep overlap\n",
    "\n",
    "    if current_chunk:\n",
    "        chunks.append(\" \".join(current_chunk))\n",
    "\n",
    "    return chunks\n",
    "\n",
    "def load_and_chunk(path: str) -> List[str]:\n",
    "    with open(path, \"r\", encoding=\"utf-8\") as f:\n",
    "        text = f.read()\n",
    "    chunks = split_text_to_chunks(text)\n",
    "    return chunks\n",
    "\n",
    "    \n",
    "chunks = load_and_chunk(\"french_tour_guide.txt\")"
   ]
  },
  {
   "cell_type": "markdown",
   "id": "6d29298d-a980-4aa8-9bc8-43a233d31839",
   "metadata": {},
   "source": [
    "client = chromadb.PersistentClient(path=\"./chroma_db\")  # will persist on disk\n",
    "collection = client.get_or_create_collection(name=\"france_tourism\")\n",
    "\n",
    "\n",
    "embedding_model = SentenceTransformer(\"all-MiniLM-L6-v2\")\n",
    "embeddings = embedding_model.encode(chunks).tolist()\n",
    "\n",
    "\n",
    "collection.add(\n",
    "    documents=chunks,\n",
    "    embeddings=embeddings,\n",
    "    ids=[f\"doc_{i}\" for i in range(len(chunks))]\n",
    ")"
   ]
  },
  {
   "cell_type": "code",
   "execution_count": null,
   "id": "27688dea-01c3-4459-b3f8-dcb777079505",
   "metadata": {},
   "outputs": [],
   "source": [
    "query = \"Where can i get a cofee in paris?\"\n",
    "query_embedding = embedding_model.encode([query]).tolist()[0]\n",
    "\n",
    "results = collection.query(\n",
    "    query_embeddings=[query_embedding],\n",
    "    n_results=5\n",
    ")\n",
    "\n",
    "for doc in results[\"documents\"][0]:\n",
    "    print(doc)\n",
    "    print()"
   ]
  }
 ],
 "metadata": {
  "kernelspec": {
   "display_name": "Python 3 (ipykernel)",
   "language": "python",
   "name": "python3"
  },
  "language_info": {
   "codemirror_mode": {
    "name": "ipython",
    "version": 3
   },
   "file_extension": ".py",
   "mimetype": "text/x-python",
   "name": "python",
   "nbconvert_exporter": "python",
   "pygments_lexer": "ipython3",
   "version": "3.13.5"
  }
 },
 "nbformat": 4,
 "nbformat_minor": 5
}

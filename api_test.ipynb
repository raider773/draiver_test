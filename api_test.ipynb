{
 "cells": [
  {
   "cell_type": "code",
   "execution_count": 1,
   "id": "32616b3c-8e3b-4fc3-885c-3d87ddd19110",
   "metadata": {},
   "outputs": [],
   "source": [
    "import requests\n",
    "\n",
    "res = requests.post(\"http://127.0.0.1:8000/chat\", json={\n",
    "    \"user_query\": \"Book me a place in the Eiffel Tower in August\",\n",
    "    \"session_id\": 1\n",
    "})"
   ]
  },
  {
   "cell_type": "code",
   "execution_count": null,
   "id": "5a3fa70d-cf48-4ff4-b99e-2094910246b3",
   "metadata": {},
   "outputs": [],
   "source": []
  },
  {
   "cell_type": "code",
   "execution_count": 5,
   "id": "c9cc4008-3af5-4a59-a165-609bb47cbf2f",
   "metadata": {},
   "outputs": [
    {
     "name": "stdout",
     "output_type": "stream",
     "text": [
      "Great news! Your reservation for the Eiffel Tower in August has been confirmed.\n",
      "\n",
      "Here are some helpful details about your upcoming visit:\n",
      "\n",
      "**About the Eiffel Tower:**\n",
      "- It's a magnificent 324-meter tall iron structure, originally built for the 1889 World's Fair\n",
      "- August is a wonderful time to visit, and you'll want to time your visit for sunset if possible - that's when you'll get the most spectacular views\n",
      "\n",
      "**Dining Option:**\n",
      "If you're interested in making your visit extra special, consider dining at **Le Jules Verne** restaurant located on the second level of the tower. It offers an unforgettable dining experience with panoramic views of Paris.\n",
      "\n",
      "**Additional Tips:**\n",
      "- August is peak tourist season in Paris, so expect crowds\n",
      "- The Eiffel Tower is beautifully illuminated at night\n",
      "- Consider combining your visit with other nearby attractions or a Seine River cruise for a complete Parisian experience\n",
      "\n",
      "Your reservation is all set - enjoy this iconic Parisian landmark and the breathtaking views it offers!\n"
     ]
    }
   ],
   "source": [
    "print(res.json()[\"answer\"])"
   ]
  },
  {
   "cell_type": "code",
   "execution_count": null,
   "id": "7ea48def-2f82-4f81-8de6-ff896938e749",
   "metadata": {},
   "outputs": [],
   "source": []
  }
 ],
 "metadata": {
  "kernelspec": {
   "display_name": "Python 3 (ipykernel)",
   "language": "python",
   "name": "python3"
  },
  "language_info": {
   "codemirror_mode": {
    "name": "ipython",
    "version": 3
   },
   "file_extension": ".py",
   "mimetype": "text/x-python",
   "name": "python",
   "nbconvert_exporter": "python",
   "pygments_lexer": "ipython3",
   "version": "3.13.5"
  }
 },
 "nbformat": 4,
 "nbformat_minor": 5
}
